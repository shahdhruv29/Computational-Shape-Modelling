{
  "cells": [
    {
      "cell_type": "markdown",
      "metadata": {
        "id": "view-in-github",
        "colab_type": "text"
      },
      "source": [
        "<a href=\"https://colab.research.google.com/github/shahdhruv29/Computational-Shape-Modelling/blob/main/Lab2.ipynb\" target=\"_parent\"><img src=\"https://colab.research.google.com/assets/colab-badge.svg\" alt=\"Open In Colab\"/></a>"
      ]
    },
    {
      "cell_type": "markdown",
      "id": "36c51221",
      "metadata": {
        "id": "36c51221"
      },
      "source": [
        "***\n",
        "## IT575: Computational Shape Modeling (Autumn 2024-25)\n",
        "### Assignment 2: Procrustes Shape Analysis\n",
        "#### Student 1 Name: $\\underline{\\hspace{1in}}$                 Student 1 ID: $\\underline{\\hspace{1in}}$\n",
        "#### Student 1 Name: $\\underline{\\hspace{1in}}$                   Student 2 ID: $\\underline{\\hspace{1in}}$\n",
        "***"
      ]
    },
    {
      "cell_type": "code",
      "execution_count": 1,
      "id": "88dde501",
      "metadata": {
        "id": "88dde501"
      },
      "outputs": [],
      "source": [
        "# import useful libraries\n",
        "import numpy as np\n",
        "import matplotlib.pyplot as plt\n",
        "import math"
      ]
    },
    {
      "cell_type": "markdown",
      "id": "b1e1efd4",
      "metadata": {
        "id": "b1e1efd4"
      },
      "source": [
        "### Q.1. We will study the shape space of rectangles to begin with. Complete the code below to generate a collection of random rectangles - centered at randomly chosen points, in random orientations, and in random aspect ratios."
      ]
    },
    {
      "cell_type": "code",
      "source": [
        "# x = np.array([-0.5, 0.5, 0.5, -0.5])\n",
        "# y = np.array([-0.5, -0.5, 0.5, 0.5])\n",
        "# theta = 2*np.pi * np.random.rand(5)\n",
        "# aspect = np.abs(1 + (20*(np.random.rand(5)-0.5)))\n",
        "# txtemp = 10*(np.random.rand(5,1) - 0.5)\n",
        "# tytemp = 10*(np.random.rand(5,1) - 0.5)\n",
        "# tx = txtemp @ np.ones((1,4))\n",
        "# ty = tytemp @ np.ones((1,4))\n",
        "# print(tx.shape, ty.shape)\n",
        "\n",
        "\n",
        "# x = np.tile(x,(5,1))\n",
        "# y = np.tile(y,(5,1))\n",
        "\n",
        "# for i in np.arange(5):\n",
        "#     x[i] = x[i] * aspect[i]\n",
        "#     y[i] = y[i] * aspect[i]\n",
        "#     rot = np.array([[np.cos(theta[i]), -np.sin(theta[i])], [np.sin(theta[i]), np.cos(theta[i])]])\n",
        "#     cord = np.row_stack((x[i], y[i]))\n",
        "#     cord = rot @ cord\n",
        "#     # print(cord.shape)\n",
        "#     x[i] = cord[0,:]\n",
        "#     y[i] = cord[1,:]\n",
        "#     print((x[i].reshape(-1,1)).shape)\n",
        "#     x[i] = x[i] - tx[i,:].T\n",
        "#     y[i] = y[i] - ty[i,:].T\n",
        "#     print(x[i])\n",
        "    # print(y[i])\n",
        "# print(x\n",
        "# print(aspect)\n",
        "# print(x[1])\n",
        "# print(x[1] * aspect[1])"
      ],
      "metadata": {
        "colab": {
          "base_uri": "https://localhost:8080/"
        },
        "id": "RVRe-1EpAxcL",
        "outputId": "a5c5c3d5-e526-491b-f1b4-8c45150583dd"
      },
      "id": "RVRe-1EpAxcL",
      "execution_count": 41,
      "outputs": [
        {
          "output_type": "stream",
          "name": "stdout",
          "text": [
            "(5, 4) (5, 4)\n",
            "(4, 1)\n",
            "[ 2.87551321 -3.83999551 -4.4848087   2.23070002]\n",
            "(4, 1)\n",
            "[-9.34533687 -0.29534792 -0.05916108 -9.10915002]\n",
            "(4, 1)\n",
            "[ 0.03173891 -0.64456259 -7.67827002 -7.00196852]\n",
            "(4, 1)\n",
            "[-0.19443831  0.52626767 -0.53988761 -1.26059358]\n",
            "(4, 1)\n",
            "[-2.80130284 -9.7408441  -6.4049632   0.53457806]\n"
          ]
        }
      ]
    },
    {
      "cell_type": "code",
      "execution_count": 2,
      "id": "e27a91d7",
      "metadata": {
        "id": "e27a91d7"
      },
      "outputs": [],
      "source": [
        "#############################################\n",
        "# Random Rectangle Generation\n",
        "# myRectangle(n) generates 'n' rectangles in 2D with random aspect ratios, orientations and locations.\n",
        "# It returns two nx4 arrays, each containing x and y coordinates respectively of the 4 vertices (in each row)\n",
        "# of the 'n' rectangles.\n",
        "#############################################\n",
        "def myRectangle(n):\n",
        "    aspect = np.abs(1 + (20*(np.random.rand(n)-0.5))) # Aspect ratio distribution: |1+ U([-10,10])|\n",
        "    theta = 2*np.pi * np.random.rand(n)             # Orientation angle dist: U([0,2 pi])\n",
        "    txtemp = 10*(np.random.rand(n,1) - 0.5)           # x component of translation vector, dist: U([-5,5])\n",
        "    tytemp = 10*(np.random.rand(n,1) - 0.5)           # y component of translation vector, dist: U([-5,5])\n",
        "    tx = txtemp @ np.ones((1,4))    # This is required for translating all 4 vertices with the same vector\n",
        "    ty = tytemp @ np.ones((1,4))    # This is required for translating all 4 vertices with the same vector\n",
        "\n",
        "    #Initialize all n rectangles as the square: (-0.5,-0.5), (0.5,-0.5),(0.5,0.5),(-0.5,0.5)\n",
        "    x = np.array([-0.5, 0.5, 0.5, -0.5])\n",
        "    y = np.array([-0.5, -0.5, 0.5, 0.5])\n",
        "    x = np.tile(x,(n,1))\n",
        "    y = np.tile(y,(n,1))\n",
        "    #------------------------------\n",
        "\n",
        "    for i in np.arange(n): # For each random rectangle,do the following:\n",
        "\n",
        "        # Change the aspect ratio using randomly generated \"aspect\" below\n",
        "\n",
        "        x[i] = x[i] * aspect[i]\n",
        "        y[i] = y[i] * aspect[i]\n",
        "\n",
        "        ########################################################\n",
        "        # Convert randomly generated angle to Rotation matrix.\n",
        "        rot = np.array([[np.cos(theta[i]), -np.sin(theta[i])], [np.sin(theta[i]), np.cos(theta[i])]])\n",
        "        #-----Apply ith rotation matrix to ith rectangle below\n",
        "        cord = np.row_stack((x[i], y[i]))\n",
        "        cord = rot @ cord\n",
        "        x[i] = cord[0,:]\n",
        "        y[i] = cord[1,:]\n",
        "        ########################################################\n",
        "        #------Translate the rotated rectangle using (tx,ty) below\n",
        "        x[i] = x[i] - tx[i,:].T\n",
        "        y[i] = y[i] - ty[i,:].T\n",
        "\n",
        "        ########################################################\n",
        "\n",
        "    return x,y"
      ]
    },
    {
      "cell_type": "markdown",
      "id": "b5ba3744",
      "metadata": {
        "id": "b5ba3744"
      },
      "source": [
        "### The code below can be used to plot closed and open landmark representations of 2d objects"
      ]
    },
    {
      "cell_type": "code",
      "execution_count": 3,
      "id": "92c87192",
      "metadata": {
        "id": "92c87192"
      },
      "outputs": [],
      "source": [
        "#################################################################\n",
        "# Plots collection of 2D shapes\n",
        "# Input: x,y - x and y coordinate matrices. Expected size n x m, where n is the number of shapes,\n",
        "#              m is the number of points in each shape\n",
        "#          t - t=0 plots closed curves by appending first point to the end. Any other value of t plots only\n",
        "#              the given points.\n",
        "#          c - Plotting parameters: \".\" will plot only the given vertices without joining them,\n",
        "#              \"-\" will join the points with line segments. Color alphabets can also be provided, i.e.\n",
        "#              \"k-\" will plot the points in black and will join them with black line segments.\n",
        "# Output: None\n",
        "# Usage: myplot2dshapes(x,y,0,\"b.\")\n",
        "#################################################################\n",
        "def myplot2dshapes(x,y,t,c):\n",
        "    xs = x.shape\n",
        "    n = xs[0]\n",
        "    x1 = x\n",
        "    y1 = y\n",
        "    #  fig1, ax = plt.subplots()\n",
        "    #ax.set_box_aspect(1)\n",
        "\n",
        "\n",
        "    if t==0:\n",
        "        if len(xs)<2:\n",
        "            x1 = np.append(x,x[0])\n",
        "            y1 = np.append(y,y[0])\n",
        "            plt.plot(x1,y1)\n",
        "            plt.axis('square')\n",
        "\n",
        "        else:\n",
        "            x1 = np.c_[x1, x1[:,0]]\n",
        "            y1 = np.c_[y1, y1[:,0]]\n",
        "            for i in np.arange(n):\n",
        "                plt.plot(x1[i,:],y1[i,:],c)\n",
        "                plt.axis('square')\n",
        "\n",
        "    else:\n",
        "        if len(xs)<2:\n",
        "            plt.plot(x1,y1,c)\n",
        "            plt.axis('square')\n",
        "\n",
        "        else:\n",
        "            for i in np.arange(n):\n",
        "                plt.plot(x1[i,:],y1[i,:],c)\n",
        "                plt.axis('square')\n",
        "    plt.grid()"
      ]
    },
    {
      "cell_type": "code",
      "source": [
        "x, y = myRectangle(5)\n",
        "myplot2dshapes(x,y,0,\"b-\")"
      ],
      "metadata": {
        "colab": {
          "base_uri": "https://localhost:8080/",
          "height": 430
        },
        "id": "1BI2y1AWTzPM",
        "outputId": "9a7514bc-c904-486a-93e9-7aa9dec0c23c"
      },
      "id": "1BI2y1AWTzPM",
      "execution_count": 4,
      "outputs": [
        {
          "output_type": "display_data",
          "data": {
            "text/plain": [
              "<Figure size 640x480 with 1 Axes>"
            ],
            "image/png": "[encoded data removed]"
          },
          "metadata": {}
        }
      ]
    },
    {
      "cell_type": "markdown",
      "id": "8d20e5cb",
      "metadata": {
        "id": "8d20e5cb"
      },
      "source": [
        "### Q.2. Complete the code below to align a given collection of shapes to another given shape.\n",
        "#### Align all shapes so that their centroids lie on origin and all shapes are unit-sized."
      ]
    },
    {
      "cell_type": "code",
      "execution_count": null,
      "id": "10d9ab4e",
      "metadata": {
        "id": "10d9ab4e"
      },
      "outputs": [],
      "source": [
        "#############################################\n",
        "# Procrustes Alignment of collection of shapes (x,y) to a given shape (x0,y0)\n",
        "# Input: x0, y0 - Expected Shape 1 x m, where m is the number of points in the shape\n",
        "#        x, y - Collection of shapes to be aligned with x0,y0. x.shape = (n,m), y.shape = (n,m),\n",
        "#               where n is the number of the shapes to be aligned with (x0,y0)\n",
        "# Output: xtso,ytso - Shapes aligned with (x0,y0) with centroids of all of them at origin.\n",
        "#                     xtso.shape = (n,m), ytso.shape(n,m).\n",
        "#                     xtso contains x coordinates, while ytso contains y coordinates.\n",
        "#############################################\n",
        "def myProcrustes(x0,y0,x,y):\n",
        "    n = np.shape(x)[0] # Number of shapes\n",
        "    m = np.shape(x)[1] # Number of points in each shape\n",
        "\n",
        "    #---Translate x0,y0 so that its centroid aligns with origin.\n",
        "    x0 = x0 - (np.mean(x0, axis=0) * np.ones((1,m)))\n",
        "    y0 = y0 - (np.mean(y0, axis=0) * np.ones((1,m)))\n",
        "\n",
        "    #---- Scale x0,y0 to unit size\n",
        "    s0 = (((x0**2) + (y0**2))@ np.ones((m,1)))**(-0.5)\n",
        "    x0 = s0*x0\n",
        "    y0 = s0*y0\n",
        "\n",
        "    #---Translate x,y so that its centroid aligns with origin. Write your code below\n",
        "    #--- Denote the mean aligned shape collection coordinates by xt,yt\n",
        "\n",
        "\n",
        "    ##############################################################\n",
        "    #-------Scale x,y individually to unit size---. Write your code below\n",
        "    #--- Denote the unit-sized shape collection coordinates by xts,yts\n",
        "\n",
        "\n",
        "\n",
        "    ##############################################################\n",
        "    #----- Change the orientation of individual shape in x,y in order to align with the orientation of x0,y0\n",
        "    theta = np.zeros(n) # Angle by which to rotate each shape in x,y. Initialized as 0.\n",
        "    xtso = xts # Final aligned shape's x coordinate initialized as xts\n",
        "    ytso = yts # Final aligned shape's y coordinate initialized as yts\n",
        "\n",
        "    for i in np.arange(n): # For each of the shape\n",
        "        # Estimate the angle of rotation\n",
        "        theta[i] =\n",
        "\n",
        "        ################################\n",
        "        rot = np.array([[np.cos(theta[i]), -np.sin(theta[i])], [np.sin(theta[i]), np.cos(theta[i])]])\n",
        "        tloc = np.array([xts[i,:],yts[i,:]])\n",
        "        temp = rot @ tloc\n",
        "        xtso[i,:] = temp[0,:]\n",
        "        ytso[i,:] = temp[1,:]\n",
        "\n",
        "\n",
        "    return xtso,ytso"
      ]
    },
    {
      "cell_type": "markdown",
      "id": "6c6e8666",
      "metadata": {
        "id": "6c6e8666"
      },
      "source": [
        "### Q.3. Complete the following code to compute the mean shape from a collection of given shapes."
      ]
    },
    {
      "cell_type": "markdown",
      "id": "8e775b37",
      "metadata": {
        "id": "8e775b37"
      },
      "source": [
        "#### You may either use the algorithm described in class, or follow the iterative process below:\n",
        "#### 1. Initialize the mean shape by randomly choosing a shape from the given collection\n",
        "#### 2. Align all ORIGINAL shapes to the current estimate of mean shape\n",
        "#### 3. Obtain new estimate of mean by taking mean of the aligned coordinates\n",
        "#### 4. If the change of mean shape is below a threshold, stop and return the latest estimate of mean shape.\n",
        "#### 5. Otherwise, go to Step 2."
      ]
    },
    {
      "cell_type": "code",
      "execution_count": null,
      "id": "0a2ca241",
      "metadata": {
        "id": "0a2ca241"
      },
      "outputs": [],
      "source": [
        "#############################################\n",
        "# Compute Procrustes Mean Shape\n",
        "# Input: x,y - Collection of n shapes, each with m points. Size of x and y is n x m.\n",
        "# Ouput: xm, ym - x and y coordinates of the estimated mean. Each of these array has size 1 x m.\n",
        "#############################################\n",
        "def myprocrustesmean(x,y):\n",
        "    n = x.shape[0]\n",
        "    ##### Write your mean estimation code here\n",
        "    ##### Denote your estimated mean coordinates by xm,ym, each of size 1 x m, where m is the\n",
        "    ##### number of points in each shape.\n",
        "\n",
        "    return xm,ym"
      ]
    },
    {
      "cell_type": "markdown",
      "id": "84db58d2",
      "metadata": {
        "id": "84db58d2"
      },
      "source": [
        "### Q.4. Complete the code below to compute the Principal Shape variations."
      ]
    },
    {
      "cell_type": "code",
      "execution_count": null,
      "id": "43e19374",
      "metadata": {
        "id": "43e19374"
      },
      "outputs": [],
      "source": [
        "#############################################\n",
        "# Compute Principal shape variations\n",
        "# Input: x,y - Collection of n shapes, each with m points. Size of x and y is n x m.\n",
        "#        xm,ym - x and y coordinates of the estimated mean. Each of these array has size 1 x m.\n",
        "# Output: evalue, evec - evalue contains the amount of variation of shape along corresponding directions\n",
        "#                        given in evec. evalue is given in descending order\n",
        "#############################################\n",
        "def myShapevar(x,y,xm,ym):\n",
        "    x,y = myProcrustes(xm,ym,x,y) # Align entire collection of shape with mean shape.\n",
        "    ###### Form the Shape Covariance Matrix below. Denote it as C.\n",
        "\n",
        "\n",
        "\n",
        "    ##########################\n",
        "    evalue, evec = np.linalg.eigh(C)\n",
        "    evalue = evalue[n::-1]\n",
        "    evec = evec[:,n::-1]\n",
        "    return evalue,evec"
      ]
    },
    {
      "cell_type": "markdown",
      "id": "934f3461",
      "metadata": {
        "id": "934f3461"
      },
      "source": [
        "## Q.5. Perform Shape Analysis of Random Rectangles. What are your observations?"
      ]
    },
    {
      "cell_type": "code",
      "execution_count": null,
      "id": "8fe4e416",
      "metadata": {
        "id": "8fe4e416"
      },
      "outputs": [],
      "source": [
        "n = 100 # Number of rectangles\n",
        "x,y = myRectangle(n) # Generate n random rectangles\n",
        "myplot2dshapes(x,y,0,\"-\") # Plot the rectangles\n",
        "xm,ym = myprocrustesmean(x,y) # Compute Procrustes Mean\n",
        "xa,ya = myProcrustes(xm,ym,x,y) # Align the shape collection with the computed mean\n",
        "plt.figure() # New figure\n",
        "myplot2dshapes(xa,ya,0,\"-\") # Plot the aligned shape\n",
        "myplot2dshapes(xm,ym,0,\"k-\") # Plot the mean shape\n",
        "\n",
        "##### Principal Shape Variations\n",
        "Var,Dir = myShapevar(x,y,xm,ym)\n",
        "\n",
        "### Write your code to plot mean, mean + 0.1 Dir_1,mean + 0.2 Dir_1, mean - 0.1 Dir_1, mean - 0.2 Dir_1\n",
        "### Write your code to plot mean, mean + 0.1 Dir_2,mean + 0.2 Dir_2, mean - 0.1 Dir_2, mean - 0.2 Dir_2\n"
      ]
    },
    {
      "cell_type": "markdown",
      "id": "783fa10c",
      "metadata": {
        "id": "783fa10c"
      },
      "source": [
        "####  Record your observations in this cell. Interpret the directions of shape variations\n",
        "***"
      ]
    },
    {
      "cell_type": "markdown",
      "id": "cb1df20b",
      "metadata": {
        "id": "cb1df20b"
      },
      "source": [
        "### Q.6. Perform Shape Analysis of Jawlines of Helen Dataset\n",
        "### Source of data: http://www.ifp.illinois.edu/~vuongle2/helen/"
      ]
    },
    {
      "cell_type": "code",
      "execution_count": null,
      "id": "df6b4a29",
      "metadata": {
        "id": "df6b4a29"
      },
      "outputs": [],
      "source": [
        "x = np.load('arr_0.npy')\n",
        "y = np.load('arr_1.npy')\n",
        "###### Repeat the same exercise with the Jawlines data. There are 300 jawlines,\n",
        "###### where each jawline has 41 points in it. Note the the jawline should be shown as an open curve\n",
        "###### (t=1 in myplot2dshapes). Compute the mean shape and principal shape variations.\n",
        "\n"
      ]
    },
    {
      "cell_type": "markdown",
      "id": "11e84770",
      "metadata": {
        "id": "11e84770"
      },
      "source": [
        "####  Record your observations for Q.6 in this cell. Interpret the directions of shape variations\n",
        "***"
      ]
    },
    {
      "cell_type": "markdown",
      "id": "3e8d7a9c",
      "metadata": {
        "id": "3e8d7a9c"
      },
      "source": []
    }
  ],
  "metadata": {
    "kernelspec": {
      "display_name": "Python 3",
      "language": "python",
      "name": "python3"
    },
    "language_info": {
      "codemirror_mode": {
        "name": "ipython",
        "version": 3
      },
      "file_extension": ".py",
      "mimetype": "text/x-python",
      "name": "python",
      "nbconvert_exporter": "python",
      "pygments_lexer": "ipython3",
      "version": "3.10.12"
    },
    "varInspector": {
      "cols": {
        "lenName": 16,
        "lenType": 16,
        "lenVar": 40
      },
      "kernels_config": {
        "python": {
          "delete_cmd_postfix": "",
          "delete_cmd_prefix": "del ",
          "library": "var_list.py",
          "varRefreshCmd": "print(var_dic_list())"
        },
        "r": {
          "delete_cmd_postfix": ") ",
          "delete_cmd_prefix": "rm(",
          "library": "var_list.r",
          "varRefreshCmd": "cat(var_dic_list()) "
        }
      },
      "types_to_exclude": [
        "module",
        "function",
        "builtin_function_or_method",
        "instance",
        "_Feature"
      ],
      "window_display": false
    },
    "colab": {
      "provenance": [],
      "include_colab_link": true
    }
  },
  "nbformat": 4,
  "nbformat_minor": 5
}